{
 "cells": [
  {
   "cell_type": "code",
   "execution_count": 3,
   "id": "63d3bba3",
   "metadata": {},
   "outputs": [],
   "source": [
    "import pandas as pd\n",
    "import numpy as np\n",
    "import matplotlib.pyplot as plt\n",
    "import seaborn as sns\n",
    "import os"
   ]
  },
  {
   "cell_type": "code",
   "execution_count": 4,
   "id": "4db095b0",
   "metadata": {},
   "outputs": [
    {
     "name": "stdout",
     "output_type": "stream",
     "text": [
      "Train shape: (891, 12)\n",
      "Test shape: (418, 11)\n"
     ]
    }
   ],
   "source": [
    "RAW_DATA_DIR = \"../data/raw/\"\n",
    "PROCESSED_DATA_DIR = \"../data/processed/\"\n",
    "\n",
    "train_df = pd.read_csv(os.path.join(RAW_DATA_DIR, \"train.csv\"))\n",
    "test_df = pd.read_csv(os.path.join(RAW_DATA_DIR, \"test.csv\"))\n",
    "\n",
    "print(\"Train shape:\", train_df.shape)\n",
    "print(\"Test shape:\", test_df.shape)"
   ]
  },
  {
   "cell_type": "code",
   "execution_count": 5,
   "id": "7c8374a6",
   "metadata": {},
   "outputs": [
    {
     "name": "stdout",
     "output_type": "stream",
     "text": [
      "Missing values in train: \n",
      "PassengerId      0\n",
      "Survived         0\n",
      "Pclass           0\n",
      "Name             0\n",
      "Sex              0\n",
      "Age            177\n",
      "SibSp            0\n",
      "Parch            0\n",
      "Ticket           0\n",
      "Fare             0\n",
      "Cabin          687\n",
      "Embarked         2\n",
      "dtype: int64\n",
      "\n",
      "Missing values in test: \n",
      "PassengerId      0\n",
      "Pclass           0\n",
      "Name             0\n",
      "Sex              0\n",
      "Age             86\n",
      "SibSp            0\n",
      "Parch            0\n",
      "Ticket           0\n",
      "Fare             1\n",
      "Cabin          327\n",
      "Embarked         0\n",
      "dtype: int64\n"
     ]
    }
   ],
   "source": [
    "print(f\"Missing values in train: \\n{train_df.isnull().sum()}\\n\")\n",
    "print(f\"Missing values in test: \\n{test_df.isnull().sum()}\")"
   ]
  },
  {
   "cell_type": "code",
   "execution_count": 6,
   "id": "f3bd5068",
   "metadata": {},
   "outputs": [],
   "source": [
    "'''Since from kaggle description we have this:\n",
    "sibsp: The dataset defines family relations in this way...\n",
    "Sibling = brother, sister, stepbrother, stepsister\n",
    "Spouse = husband, wife (mistresses and fiancés were ignored)\n",
    "\n",
    "parch: The dataset defines family relations in this way...\n",
    "Parent = mother, father\n",
    "Child = daughter, son, stepdaughter, stepson\n",
    "Some children travelled only with a nanny, therefore parch=0 for them.\n",
    "\n",
    "then FamilySize = SibSp + Parch + 1 (1 for self)'''\n",
    "\n",
    "# create two new features: FamilySize and IsAlone\n",
    "train_df['FamilySize'] = train_df['SibSp'] + train_df['Parch'] + 1\n",
    "train_df['IsAlone'] = 1  \n",
    "train_df.loc[train_df['FamilySize'] > 1, 'IsAlone'] = 0\n",
    "# im not sure IsAlone is useful or not (basically if network is strong it should learn it from FamilySize\n",
    "# so i will check this later with stronger network)\n",
    "\n",
    "test_df['FamilySize'] = test_df['SibSp'] + test_df['Parch'] + 1\n",
    "test_df['IsAlone'] = 1\n",
    "test_df.loc[test_df['FamilySize'] > 1, 'IsAlone'] = 0"
   ]
  },
  {
   "cell_type": "code",
   "execution_count": 7,
   "id": "454ef356",
   "metadata": {},
   "outputs": [
    {
     "name": "stdout",
     "output_type": "stream",
     "text": [
      "Name\n",
      "Capt          1\n",
      "Col           2\n",
      "Countess      1\n",
      "Don           1\n",
      "Dr            7\n",
      "Jonkheer      1\n",
      "Lady          1\n",
      "Major         2\n",
      "Master       40\n",
      "Miss        182\n",
      "Mlle          2\n",
      "Mme           1\n",
      "Mr          517\n",
      "Mrs         125\n",
      "Ms            1\n",
      "Rev           6\n",
      "Sir           1\n",
      "Name: Name, dtype: int64\n"
     ]
    }
   ],
   "source": [
    "# get all titles from name\n",
    "temp = train_df['Name'].str.extract(' ([A-Za-z]+)\\\\.', expand=False)\n",
    "print(temp.groupby(temp).count())\n",
    "#GOOGLE ==> The title \"Mme.\" is the French abbreviation for Madame,\n",
    "# a formal term of respect for a woman, equivalent to \"Mrs.\" or \"Madam\" in English 👍\n",
    "# GOOGLE ==> No, \"Master\" is not the same as \"Mr.\"; \"Master\" was traditionally a title for a young boy,\n",
    "# while \"Mr.\" is an honorific for adult men.🤷‍♂️"
   ]
  },
  {
   "cell_type": "code",
   "execution_count": 8,
   "id": "7e2cc9be",
   "metadata": {},
   "outputs": [
    {
     "name": "stdout",
     "output_type": "stream",
     "text": [
      "The rare titles are: ['Capt', 'Col', 'Countess', 'Don', 'Dr', 'Jonkheer', 'Lady', 'Major', 'Mlle', 'Mme', 'Ms', 'Rev', 'Sir']\n",
      "\n",
      "|    |   PassengerId |   Survived |   Pclass | Name                                                    | Sex    |   Age |   SibSp |   Parch | Ticket           |    Fare | Cabin   | Embarked   |   FamilySize |   IsAlone | Title   |\n",
      "|---:|--------------:|-----------:|---------:|:--------------------------------------------------------|:-------|------:|--------:|--------:|:-----------------|--------:|:--------|:-----------|-------------:|----------:|:--------|\n",
      "|  0 |             1 |          0 |        3 | Braund, Mr. Owen Harris                                 | male   |    22 |       1 |       0 | A/5 21171        |  7.25   | nan     | S          |            2 |         0 | Mr      |\n",
      "|  1 |             2 |          1 |        1 | Cumings, Mrs. John Bradley (Florence Briggs Thayer)     | female |    38 |       1 |       0 | PC 17599         | 71.2833 | C85     | C          |            2 |         0 | Mrs     |\n",
      "|  2 |             3 |          1 |        3 | Heikkinen, Miss. Laina                                  | female |    26 |       0 |       0 | STON/O2. 3101282 |  7.925  | nan     | S          |            1 |         1 | Miss    |\n",
      "|  3 |             4 |          1 |        1 | Futrelle, Mrs. Jacques Heath (Lily May Peel)            | female |    35 |       1 |       0 | 113803           | 53.1    | C123    | S          |            2 |         0 | Mrs     |\n",
      "|  4 |             5 |          0 |        3 | Allen, Mr. William Henry                                | male   |    35 |       0 |       0 | 373450           |  8.05   | nan     | S          |            1 |         1 | Mr      |\n",
      "|  5 |             6 |          0 |        3 | Moran, Mr. James                                        | male   |   nan |       0 |       0 | 330877           |  8.4583 | nan     | Q          |            1 |         1 | Mr      |\n",
      "|  6 |             7 |          0 |        1 | McCarthy, Mr. Timothy J                                 | male   |    54 |       0 |       0 | 17463            | 51.8625 | E46     | S          |            1 |         1 | Mr      |\n",
      "|  7 |             8 |          0 |        3 | Palsson, Master. Gosta Leonard                          | male   |     2 |       3 |       1 | 349909           | 21.075  | nan     | S          |            5 |         0 | Master  |\n",
      "|  8 |             9 |          1 |        3 | Johnson, Mrs. Oscar W (Elisabeth Vilhelmina Berg)       | female |    27 |       0 |       2 | 347742           | 11.1333 | nan     | S          |            3 |         0 | Mrs     |\n",
      "|  9 |            10 |          1 |        2 | Nasser, Mrs. Nicholas (Adele Achem)                     | female |    14 |       1 |       0 | 237736           | 30.0708 | nan     | C          |            2 |         0 | Mrs     |\n",
      "| 10 |            11 |          1 |        3 | Sandstrom, Miss. Marguerite Rut                         | female |     4 |       1 |       1 | PP 9549          | 16.7    | G6      | S          |            3 |         0 | Miss    |\n",
      "| 11 |            12 |          1 |        1 | Bonnell, Miss. Elizabeth                                | female |    58 |       0 |       0 | 113783           | 26.55   | C103    | S          |            1 |         1 | Miss    |\n",
      "| 12 |            13 |          0 |        3 | Saundercock, Mr. William Henry                          | male   |    20 |       0 |       0 | A/5. 2151        |  8.05   | nan     | S          |            1 |         1 | Mr      |\n",
      "| 13 |            14 |          0 |        3 | Andersson, Mr. Anders Johan                             | male   |    39 |       1 |       5 | 347082           | 31.275  | nan     | S          |            7 |         0 | Mr      |\n",
      "| 14 |            15 |          0 |        3 | Vestrom, Miss. Hulda Amanda Adolfina                    | female |    14 |       0 |       0 | 350406           |  7.8542 | nan     | S          |            1 |         1 | Miss    |\n",
      "| 15 |            16 |          1 |        2 | Hewlett, Mrs. (Mary D Kingcome)                         | female |    55 |       0 |       0 | 248706           | 16      | nan     | S          |            1 |         1 | Mrs     |\n",
      "| 16 |            17 |          0 |        3 | Rice, Master. Eugene                                    | male   |     2 |       4 |       1 | 382652           | 29.125  | nan     | Q          |            6 |         0 | Master  |\n",
      "| 17 |            18 |          1 |        2 | Williams, Mr. Charles Eugene                            | male   |   nan |       0 |       0 | 244373           | 13      | nan     | S          |            1 |         1 | Mr      |\n",
      "| 18 |            19 |          0 |        3 | Vander Planke, Mrs. Julius (Emelia Maria Vandemoortele) | female |    31 |       1 |       0 | 345763           | 18      | nan     | S          |            2 |         0 | Mrs     |\n",
      "| 19 |            20 |          1 |        3 | Masselmani, Mrs. Fatima                                 | female |   nan |       0 |       0 | 2649             |  7.225  | nan     | C          |            1 |         1 | Mrs     |\n"
     ]
    }
   ],
   "source": [
    "train_df['Title'] = train_df['Name'].str.extract(' ([A-Za-z]+)\\\\.', expand=False)\n",
    "rares = train_df['Title'].groupby(train_df['Title']).count()[train_df['Title'].groupby(train_df['Title']).count() < 10].index\n",
    "print(f'The rare titles are: {rares.to_list()}\\n')\n",
    "train_df['Title'] = train_df['Title'].replace(rares,'Rare')\n",
    "train_df['Title'] = train_df['Title'].replace('Mlle','Miss')\n",
    "train_df['Title'] = train_df['Title'].replace('Ms','Miss')\n",
    "train_df['Title'] = train_df['Title'].replace('Mme','Mrs')\n",
    "print(train_df.head(20).to_markdown())\n",
    "# -- do the same for test_df --\n",
    "test_df['Title'] = test_df['Name'].str.extract(' ([A-Za-z]+)\\\\.', expand=False)\n",
    "test_df['Title'] = test_df['Title'].replace(rares,'Rare')\n",
    "test_df['Title'] = test_df['Title'].replace('Mlle','Miss')\n",
    "test_df['Title'] = test_df['Title'].replace('Ms','Miss')\n",
    "test_df['Title'] = test_df['Title'].replace('Mme','Mrs')"
   ]
  },
  {
   "cell_type": "code",
   "execution_count": 9,
   "id": "b9fce5c2",
   "metadata": {},
   "outputs": [
    {
     "data": {
      "image/png": "[encoded data removed]",
      "text/plain": [
       "<Figure size 640x480 with 1 Axes>"
      ]
     },
     "metadata": {},
     "output_type": "display_data"
    },
    {
     "data": {
      "image/png": "[encoded data removed]",
      "text/plain": [
       "<Figure size 640x480 with 1 Axes>"
      ]
     },
     "metadata": {},
     "output_type": "display_data"
    },
    {
     "data": {
      "image/png": "[encoded data removed]",
      "text/plain": [
       "<Figure size 640x480 with 1 Axes>"
      ]
     },
     "metadata": {},
     "output_type": "display_data"
    }
   ],
   "source": [
    "sns.barplot(x='FamilySize', y='Survived', data=train_df)\n",
    "plt.title(\"Survival Rate by Pclass\")\n",
    "plt.show()\n",
    "\n",
    "sns.barplot(x='IsAlone', y='Survived', data=train_df)\n",
    "plt.title(\"Survival Rate by Pclass\")\n",
    "plt.show()\n",
    "\n",
    "sns.barplot(x='Title', y='Survived', data=train_df)\n",
    "plt.title(\"Survival Rate by Pclass\")\n",
    "plt.show()"
   ]
  },
  {
   "cell_type": "code",
   "execution_count": 10,
   "id": "38a4dbcc",
   "metadata": {},
   "outputs": [],
   "source": [
    "# columns that have nan or missing values and number of missing values\n",
    "# print(f\"Missing values in train: \\n{train_df.isnull().sum()}\\n\")\n",
    "# print(f\"Missing values in test: \\n{test_df.isnull().sum()}\")"
   ]
  },
  {
   "cell_type": "code",
   "execution_count": 11,
   "id": "26894366",
   "metadata": {},
   "outputs": [
    {
     "name": "stdout",
     "output_type": "stream",
     "text": [
      "Median age for each title:\n",
      "| Title   |   Age |\n",
      "|:--------|------:|\n",
      "| Master  |   3.5 |\n",
      "| Miss    |  21   |\n",
      "| Mr      |  30   |\n",
      "| Mrs     |  35   |\n",
      "| Rare    |  44.5 |\n"
     ]
    },
    {
     "data": {
      "text/plain": [
       "'Google => Yes, the title \"Master\" was historically and\\nsometimes still is used for young boys in English-speaking\\ncontexts, particularly up to the late 19th century and into\\nthe 20th century 👍'"
      ]
     },
     "execution_count": 11,
     "metadata": {},
     "output_type": "execute_result"
    }
   ],
   "source": [
    "temp=train_df.groupby('Title')['Age'].median()\n",
    "print(f\"Median age for each title:\\n{temp.to_markdown()}\")\n",
    "# To me 3.5 is a weird value for Master age 🤷‍♂️\n",
    "'''Google => Yes, the title \"Master\" was historically and\n",
    "sometimes still is used for young boys in English-speaking\n",
    "contexts, particularly up to the late 19th century and into\n",
    "the 20th century 👍''' "
   ]
  },
  {
   "cell_type": "code",
   "execution_count": 12,
   "id": "63f9cefc",
   "metadata": {},
   "outputs": [],
   "source": [
    "# fill the nan values with median of each title\n",
    "for title, age in temp.items():\n",
    "    train_df.loc[(train_df['Age'].isnull()) & (train_df['Title'] == title), 'Age'] = age\n",
    "    test_df.loc[(test_df['Age'].isnull()) & (test_df['Title'] == title), 'Age'] = age"
   ]
  },
  {
   "cell_type": "code",
   "execution_count": 13,
   "id": "c3538ee0",
   "metadata": {},
   "outputs": [],
   "source": [
    "train_df['Cabin_deck'] = train_df['Cabin'].astype(str).str[0]\n",
    "train_df['Cabin_deck'] = train_df['Cabin_deck'].replace('n', np.nan)  # for NaN turned 'nan'\n",
    "deck_map = {1: 'B', 2: 'D', 3: 'F'}\n",
    "train_df['Cabin_deck'] = train_df['Cabin_deck'].fillna(train_df['Pclass'].map(deck_map))\n",
    "train_df['HasCabin'] = train_df['Cabin'].notnull().astype(int)\n",
    "# --  do the same for test_df --\n",
    "test_df['Cabin_deck'] = test_df['Cabin'].astype(str).str[0]\n",
    "test_df['Cabin_deck'] = test_df['Cabin_deck'].replace('n', np.nan)  # for NaN turned 'nan'\n",
    "test_df['Cabin_deck'] = test_df['Cabin_deck'].fillna(test_df['Pclass'].map(deck_map))\n",
    "test_df['HasCabin'] = test_df['Cabin'].notnull().astype(int)"
   ]
  },
  {
   "cell_type": "code",
   "execution_count": 14,
   "id": "2ece1aa9",
   "metadata": {},
   "outputs": [],
   "source": [
    "most_common_embarked = train_df[\"Embarked\"].mode()[0]\n",
    "train_df[\"Embarked\"] = train_df[\"Embarked\"].fillna(most_common_embarked)"
   ]
  },
  {
   "cell_type": "code",
   "execution_count": 15,
   "id": "26340981",
   "metadata": {},
   "outputs": [
    {
     "name": "stdout",
     "output_type": "stream",
     "text": [
      "Missing values in train: \n",
      "PassengerId      0\n",
      "Survived         0\n",
      "Pclass           0\n",
      "Name             0\n",
      "Sex              0\n",
      "Age              0\n",
      "SibSp            0\n",
      "Parch            0\n",
      "Ticket           0\n",
      "Fare             0\n",
      "Cabin          687\n",
      "Embarked         0\n",
      "FamilySize       0\n",
      "IsAlone          0\n",
      "Title            0\n",
      "Cabin_deck       0\n",
      "HasCabin         0\n",
      "dtype: int64\n",
      "\n",
      "Missing values in test: \n",
      "PassengerId      0\n",
      "Pclass           0\n",
      "Name             0\n",
      "Sex              0\n",
      "Age              0\n",
      "SibSp            0\n",
      "Parch            0\n",
      "Ticket           0\n",
      "Fare             1\n",
      "Cabin          327\n",
      "Embarked         0\n",
      "FamilySize       0\n",
      "IsAlone          0\n",
      "Title            0\n",
      "Cabin_deck       0\n",
      "HasCabin         0\n",
      "dtype: int64\n"
     ]
    }
   ],
   "source": [
    "print(f\"Missing values in train: \\n{train_df.isnull().sum()}\\n\")\n",
    "print(f\"Missing values in test: \\n{test_df.isnull().sum()}\")\n",
    "# REMEMBER i want use Cabin_deck and not Cabin itself because"
   ]
  },
  {
   "cell_type": "code",
   "execution_count": 16,
   "id": "b0a3d892",
   "metadata": {},
   "outputs": [],
   "source": [
    "test_df[\"Fare\"] = test_df[\"Fare\"].fillna(\n",
    "    test_df.groupby(\"Pclass\")[\"Fare\"].transform(\"median\")\n",
    ")"
   ]
  },
  {
   "cell_type": "code",
   "execution_count": 17,
   "id": "95641d3f",
   "metadata": {},
   "outputs": [],
   "source": [
    "categorical_features = ['Sex', 'Embarked', 'Title', 'Cabin_deck']\n",
    "train_df = pd.get_dummies(train_df, columns=categorical_features, drop_first=True)\n",
    "test_df = pd.get_dummies(test_df, columns=categorical_features, drop_first=True)\n",
    "train_df, test_df = train_df.align(test_df, join='left', axis=1, fill_value=0)\n"
   ]
  },
  {
   "cell_type": "code",
   "execution_count": 18,
   "id": "8f281b3d",
   "metadata": {},
   "outputs": [
    {
     "data": {
      "text/plain": [
       "'\\nIf you calculated the mean and standard deviation for scaling\\nusing the ENTIRE dataset (Train + Val), you leaked information\\nfrom the validation set into the training process. This makes the\\nvalidation data seem \"easier\" than it should be, resulting in an\\nartificially high initial validation accuracy that quickly flatlines as the\\nmodel overfits the leaked info.'"
      ]
     },
     "execution_count": 18,
     "metadata": {},
     "output_type": "execute_result"
    }
   ],
   "source": [
    "# this part remove because the issue of Data Leakage\n",
    "'''\n",
    "If you calculated the mean and standard deviation for scaling\n",
    "using the ENTIRE dataset (Train + Val), you leaked information\n",
    "from the validation set into the training process. This makes the\n",
    "validation data seem \"easier\" than it should be, resulting in an\n",
    "artificially high initial validation accuracy that quickly flatlines as the\n",
    "model overfits the leaked info.'''\n",
    "\n",
    "# from sklearn.preprocessing import StandardScaler\n",
    "\n",
    "# scaler = StandardScaler()\n",
    "# num_features = ['Age', 'Fare', 'FamilySize']\n",
    "\n",
    "# train_df[num_features] = scaler.fit_transform(train_df[num_features])\n",
    "# test_df[num_features] = scaler.transform(test_df[num_features])\n"
   ]
  },
  {
   "cell_type": "code",
   "execution_count": 19,
   "id": "83e81709",
   "metadata": {},
   "outputs": [],
   "source": [
    "cols_to_drop = [ \"Name\", \"Ticket\", \"Cabin\"]\n",
    "train_df.drop(columns=cols_to_drop, inplace=True)\n",
    "test_df.drop(columns=cols_to_drop, inplace=True)"
   ]
  },
  {
   "cell_type": "code",
   "execution_count": 20,
   "id": "586ec266",
   "metadata": {},
   "outputs": [],
   "source": [
    "# save the processed data\n",
    "train_df.to_csv(os.path.join(PROCESSED_DATA_DIR, \"train_processed.csv\"), index=False)\n",
    "test_df.to_csv(os.path.join(PROCESSED_DATA_DIR, \"test_processed.csv\"), index=False)"
   ]
  }
 ],
 "metadata": {
  "kernelspec": {
   "display_name": "ml-practice-env",
   "language": "python",
   "name": "python3"
  },
  "language_info": {
   "codemirror_mode": {
    "name": "ipython",
    "version": 3
   },
   "file_extension": ".py",
   "mimetype": "text/x-python",
   "name": "python",
   "nbconvert_exporter": "python",
   "pygments_lexer": "ipython3",
   "version": "3.13.7"
  }
 },
 "nbformat": 4,
 "nbformat_minor": 5
}
